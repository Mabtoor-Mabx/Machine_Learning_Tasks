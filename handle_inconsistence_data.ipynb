{
 "cells": [
  {
   "cell_type": "markdown",
   "id": "2db9158b",
   "metadata": {},
   "source": [
    "# Handle Inconsistence Data\n",
    "\n",
    "*In this Notebook, We will handle inconsistence data using Multiple methods of ML using Python Language*"
   ]
  },
  {
   "cell_type": "code",
   "execution_count": 1,
   "id": "8f7d161f",
   "metadata": {},
   "outputs": [],
   "source": [
    "# Import libraries\n",
    "import numpy as np\n",
    "import pandas as pd\n",
    "import matplotlib.pyplot as plt\n",
    "import seaborn as sns"
   ]
  },
  {
   "cell_type": "code",
   "execution_count": 6,
   "id": "b8884380",
   "metadata": {},
   "outputs": [],
   "source": [
    "# Load the dataset\n",
    "local_data = {\n",
    "    'date': ['2025-01-10', '2025-02-15', '2025-03-17', '2025-04-18', '2025-07-15', '2025-07-15'],\n",
    "    'country': ['USA','UK','AMERICA', 'AUSTRIA', 'JAPAN', 'CHINA'],\n",
    "    'name': ['MABTOOR', 'MUNEEB', 'MANSOOR', 'MOIZ', 'ALI', 'ASAD'],\n",
    "    'sales_2025': [1000,2000,None, 3000, None,4000],\n",
    "    'sales_2024': [1200,4000,5600,None,None, 6433]\n",
    "}"
   ]
  },
  {
   "cell_type": "code",
   "execution_count": 7,
   "id": "732bc7f7",
   "metadata": {},
   "outputs": [
    {
     "data": {
      "text/plain": [
       "{'date': ['2025-01-10',\n",
       "  '2025-02-15',\n",
       "  '2025-03-17',\n",
       "  '2025-04-18',\n",
       "  '2025-07-15',\n",
       "  '2025-07-15'],\n",
       " 'country': ['USA', 'UK', 'AMERICA', 'AUSTRIA', 'JAPAN', 'CHINA'],\n",
       " 'name': ['MABTOOR', 'MUNEEB', 'MANSOOR', 'MOIZ', 'ALI', 'ASAD'],\n",
       " 'sales_2025': [1000, 2000, None, 3000, None, 4000],\n",
       " 'sales_2024': [1200, 4000, 5600, None, None, 6433]}"
      ]
     },
     "execution_count": 7,
     "metadata": {},
     "output_type": "execute_result"
    }
   ],
   "source": [
    "local_data"
   ]
  },
  {
   "cell_type": "code",
   "execution_count": 11,
   "id": "54d6762d",
   "metadata": {},
   "outputs": [
    {
     "data": {
      "text/html": [
       "<div>\n",
       "<style scoped>\n",
       "    .dataframe tbody tr th:only-of-type {\n",
       "        vertical-align: middle;\n",
       "    }\n",
       "\n",
       "    .dataframe tbody tr th {\n",
       "        vertical-align: top;\n",
       "    }\n",
       "\n",
       "    .dataframe thead th {\n",
       "        text-align: right;\n",
       "    }\n",
       "</style>\n",
       "<table border=\"1\" class=\"dataframe\">\n",
       "  <thead>\n",
       "    <tr style=\"text-align: right;\">\n",
       "      <th></th>\n",
       "      <th>date</th>\n",
       "      <th>country</th>\n",
       "      <th>name</th>\n",
       "      <th>sales_2025</th>\n",
       "      <th>sales_2024</th>\n",
       "    </tr>\n",
       "  </thead>\n",
       "  <tbody>\n",
       "    <tr>\n",
       "      <th>0</th>\n",
       "      <td>2025-01-10</td>\n",
       "      <td>USA</td>\n",
       "      <td>MABTOOR</td>\n",
       "      <td>1000.0</td>\n",
       "      <td>1200.0</td>\n",
       "    </tr>\n",
       "    <tr>\n",
       "      <th>1</th>\n",
       "      <td>2025-02-15</td>\n",
       "      <td>UK</td>\n",
       "      <td>MUNEEB</td>\n",
       "      <td>2000.0</td>\n",
       "      <td>4000.0</td>\n",
       "    </tr>\n",
       "    <tr>\n",
       "      <th>2</th>\n",
       "      <td>2025-03-17</td>\n",
       "      <td>AMERICA</td>\n",
       "      <td>MANSOOR</td>\n",
       "      <td>NaN</td>\n",
       "      <td>5600.0</td>\n",
       "    </tr>\n",
       "    <tr>\n",
       "      <th>3</th>\n",
       "      <td>2025-04-18</td>\n",
       "      <td>AUSTRIA</td>\n",
       "      <td>MOIZ</td>\n",
       "      <td>3000.0</td>\n",
       "      <td>NaN</td>\n",
       "    </tr>\n",
       "    <tr>\n",
       "      <th>4</th>\n",
       "      <td>2025-07-15</td>\n",
       "      <td>JAPAN</td>\n",
       "      <td>ALI</td>\n",
       "      <td>NaN</td>\n",
       "      <td>NaN</td>\n",
       "    </tr>\n",
       "  </tbody>\n",
       "</table>\n",
       "</div>"
      ],
      "text/plain": [
       "         date  country     name  sales_2025  sales_2024\n",
       "0  2025-01-10      USA  MABTOOR      1000.0      1200.0\n",
       "1  2025-02-15       UK   MUNEEB      2000.0      4000.0\n",
       "2  2025-03-17  AMERICA  MANSOOR         NaN      5600.0\n",
       "3  2025-04-18  AUSTRIA     MOIZ      3000.0         NaN\n",
       "4  2025-07-15    JAPAN      ALI         NaN         NaN"
      ]
     },
     "execution_count": 11,
     "metadata": {},
     "output_type": "execute_result"
    }
   ],
   "source": [
    "# Convert it into Dataframe\n",
    "data_frame = pd.DataFrame(local_data)\n",
    "data_frame.head()"
   ]
  },
  {
   "cell_type": "code",
   "execution_count": 12,
   "id": "c726c19c",
   "metadata": {},
   "outputs": [
    {
     "data": {
      "text/html": [
       "<div>\n",
       "<style scoped>\n",
       "    .dataframe tbody tr th:only-of-type {\n",
       "        vertical-align: middle;\n",
       "    }\n",
       "\n",
       "    .dataframe tbody tr th {\n",
       "        vertical-align: top;\n",
       "    }\n",
       "\n",
       "    .dataframe thead th {\n",
       "        text-align: right;\n",
       "    }\n",
       "</style>\n",
       "<table border=\"1\" class=\"dataframe\">\n",
       "  <thead>\n",
       "    <tr style=\"text-align: right;\">\n",
       "      <th></th>\n",
       "      <th>date</th>\n",
       "      <th>country</th>\n",
       "      <th>name</th>\n",
       "      <th>sales_2025</th>\n",
       "      <th>sales_2024</th>\n",
       "    </tr>\n",
       "  </thead>\n",
       "  <tbody>\n",
       "    <tr>\n",
       "      <th>0</th>\n",
       "      <td>2025-01-10</td>\n",
       "      <td>USA</td>\n",
       "      <td>MABTOOR</td>\n",
       "      <td>1000.0</td>\n",
       "      <td>1200.0</td>\n",
       "    </tr>\n",
       "    <tr>\n",
       "      <th>1</th>\n",
       "      <td>2025-02-15</td>\n",
       "      <td>UK</td>\n",
       "      <td>MUNEEB</td>\n",
       "      <td>2000.0</td>\n",
       "      <td>4000.0</td>\n",
       "    </tr>\n",
       "    <tr>\n",
       "      <th>2</th>\n",
       "      <td>2025-03-17</td>\n",
       "      <td>AMERICA</td>\n",
       "      <td>MANSOOR</td>\n",
       "      <td>NaN</td>\n",
       "      <td>5600.0</td>\n",
       "    </tr>\n",
       "    <tr>\n",
       "      <th>3</th>\n",
       "      <td>2025-04-18</td>\n",
       "      <td>AUSTRIA</td>\n",
       "      <td>MOIZ</td>\n",
       "      <td>3000.0</td>\n",
       "      <td>NaN</td>\n",
       "    </tr>\n",
       "    <tr>\n",
       "      <th>4</th>\n",
       "      <td>2025-07-15</td>\n",
       "      <td>JAPAN</td>\n",
       "      <td>ALI</td>\n",
       "      <td>NaN</td>\n",
       "      <td>NaN</td>\n",
       "    </tr>\n",
       "  </tbody>\n",
       "</table>\n",
       "</div>"
      ],
      "text/plain": [
       "         date  country     name  sales_2025  sales_2024\n",
       "0  2025-01-10      USA  MABTOOR      1000.0      1200.0\n",
       "1  2025-02-15       UK   MUNEEB      2000.0      4000.0\n",
       "2  2025-03-17  AMERICA  MANSOOR         NaN      5600.0\n",
       "3  2025-04-18  AUSTRIA     MOIZ      3000.0         NaN\n",
       "4  2025-07-15    JAPAN      ALI         NaN         NaN"
      ]
     },
     "execution_count": 12,
     "metadata": {},
     "output_type": "execute_result"
    }
   ],
   "source": [
    "data_frame.head()"
   ]
  },
  {
   "cell_type": "code",
   "execution_count": 13,
   "id": "eff0ff5c",
   "metadata": {},
   "outputs": [
    {
     "name": "stdout",
     "output_type": "stream",
     "text": [
      "<class 'pandas.core.frame.DataFrame'>\n",
      "RangeIndex: 6 entries, 0 to 5\n",
      "Data columns (total 5 columns):\n",
      " #   Column      Non-Null Count  Dtype  \n",
      "---  ------      --------------  -----  \n",
      " 0   date        6 non-null      object \n",
      " 1   country     6 non-null      object \n",
      " 2   name        6 non-null      object \n",
      " 3   sales_2025  4 non-null      float64\n",
      " 4   sales_2024  4 non-null      float64\n",
      "dtypes: float64(2), object(3)\n",
      "memory usage: 372.0+ bytes\n"
     ]
    }
   ],
   "source": [
    "data_frame.info()"
   ]
  },
  {
   "cell_type": "code",
   "execution_count": 14,
   "id": "8195b94a",
   "metadata": {},
   "outputs": [
    {
     "data": {
      "text/html": [
       "<div>\n",
       "<style scoped>\n",
       "    .dataframe tbody tr th:only-of-type {\n",
       "        vertical-align: middle;\n",
       "    }\n",
       "\n",
       "    .dataframe tbody tr th {\n",
       "        vertical-align: top;\n",
       "    }\n",
       "\n",
       "    .dataframe thead th {\n",
       "        text-align: right;\n",
       "    }\n",
       "</style>\n",
       "<table border=\"1\" class=\"dataframe\">\n",
       "  <thead>\n",
       "    <tr style=\"text-align: right;\">\n",
       "      <th></th>\n",
       "      <th>sales_2025</th>\n",
       "      <th>sales_2024</th>\n",
       "    </tr>\n",
       "  </thead>\n",
       "  <tbody>\n",
       "    <tr>\n",
       "      <th>count</th>\n",
       "      <td>4.000000</td>\n",
       "      <td>4.000000</td>\n",
       "    </tr>\n",
       "    <tr>\n",
       "      <th>mean</th>\n",
       "      <td>2500.000000</td>\n",
       "      <td>4308.250000</td>\n",
       "    </tr>\n",
       "    <tr>\n",
       "      <th>std</th>\n",
       "      <td>1290.994449</td>\n",
       "      <td>2305.024711</td>\n",
       "    </tr>\n",
       "    <tr>\n",
       "      <th>min</th>\n",
       "      <td>1000.000000</td>\n",
       "      <td>1200.000000</td>\n",
       "    </tr>\n",
       "    <tr>\n",
       "      <th>25%</th>\n",
       "      <td>1750.000000</td>\n",
       "      <td>3300.000000</td>\n",
       "    </tr>\n",
       "    <tr>\n",
       "      <th>50%</th>\n",
       "      <td>2500.000000</td>\n",
       "      <td>4800.000000</td>\n",
       "    </tr>\n",
       "    <tr>\n",
       "      <th>75%</th>\n",
       "      <td>3250.000000</td>\n",
       "      <td>5808.250000</td>\n",
       "    </tr>\n",
       "    <tr>\n",
       "      <th>max</th>\n",
       "      <td>4000.000000</td>\n",
       "      <td>6433.000000</td>\n",
       "    </tr>\n",
       "  </tbody>\n",
       "</table>\n",
       "</div>"
      ],
      "text/plain": [
       "        sales_2025   sales_2024\n",
       "count     4.000000     4.000000\n",
       "mean   2500.000000  4308.250000\n",
       "std    1290.994449  2305.024711\n",
       "min    1000.000000  1200.000000\n",
       "25%    1750.000000  3300.000000\n",
       "50%    2500.000000  4800.000000\n",
       "75%    3250.000000  5808.250000\n",
       "max    4000.000000  6433.000000"
      ]
     },
     "execution_count": 14,
     "metadata": {},
     "output_type": "execute_result"
    }
   ],
   "source": [
    "data_frame.describe()"
   ]
  },
  {
   "cell_type": "code",
   "execution_count": 15,
   "id": "4075a00e",
   "metadata": {},
   "outputs": [
    {
     "data": {
      "text/plain": [
       "date          0\n",
       "country       0\n",
       "name          0\n",
       "sales_2025    2\n",
       "sales_2024    2\n",
       "dtype: int64"
      ]
     },
     "execution_count": 15,
     "metadata": {},
     "output_type": "execute_result"
    }
   ],
   "source": [
    "data_frame.isnull().sum()"
   ]
  },
  {
   "cell_type": "code",
   "execution_count": 16,
   "id": "bbfdcd92",
   "metadata": {},
   "outputs": [
    {
     "name": "stderr",
     "output_type": "stream",
     "text": [
      "C:\\Users\\Mabtoor Mabx\\AppData\\Local\\Temp\\ipykernel_12100\\1370798287.py:3: FutureWarning: A value is trying to be set on a copy of a DataFrame or Series through chained assignment using an inplace method.\n",
      "The behavior will change in pandas 3.0. This inplace method will never work because the intermediate object on which we are setting values always behaves as a copy.\n",
      "\n",
      "For example, when doing 'df[col].method(value, inplace=True)', try using 'df.method({col: value}, inplace=True)' or df[col] = df[col].method(value) instead, to perform the operation inplace on the original object.\n",
      "\n",
      "\n",
      "  data_frame['sales_2025'].fillna(data_frame['sales_2025'].mean(), inplace=True)\n",
      "C:\\Users\\Mabtoor Mabx\\AppData\\Local\\Temp\\ipykernel_12100\\1370798287.py:4: FutureWarning: A value is trying to be set on a copy of a DataFrame or Series through chained assignment using an inplace method.\n",
      "The behavior will change in pandas 3.0. This inplace method will never work because the intermediate object on which we are setting values always behaves as a copy.\n",
      "\n",
      "For example, when doing 'df[col].method(value, inplace=True)', try using 'df.method({col: value}, inplace=True)' or df[col] = df[col].method(value) instead, to perform the operation inplace on the original object.\n",
      "\n",
      "\n",
      "  data_frame['sales_2024'].fillna(data_frame['sales_2024'].mean(), inplace=True)\n"
     ]
    },
    {
     "data": {
      "text/html": [
       "<div>\n",
       "<style scoped>\n",
       "    .dataframe tbody tr th:only-of-type {\n",
       "        vertical-align: middle;\n",
       "    }\n",
       "\n",
       "    .dataframe tbody tr th {\n",
       "        vertical-align: top;\n",
       "    }\n",
       "\n",
       "    .dataframe thead th {\n",
       "        text-align: right;\n",
       "    }\n",
       "</style>\n",
       "<table border=\"1\" class=\"dataframe\">\n",
       "  <thead>\n",
       "    <tr style=\"text-align: right;\">\n",
       "      <th></th>\n",
       "      <th>date</th>\n",
       "      <th>country</th>\n",
       "      <th>name</th>\n",
       "      <th>sales_2025</th>\n",
       "      <th>sales_2024</th>\n",
       "    </tr>\n",
       "  </thead>\n",
       "  <tbody>\n",
       "    <tr>\n",
       "      <th>0</th>\n",
       "      <td>2025-01-10</td>\n",
       "      <td>USA</td>\n",
       "      <td>MABTOOR</td>\n",
       "      <td>1000.0</td>\n",
       "      <td>1200.00</td>\n",
       "    </tr>\n",
       "    <tr>\n",
       "      <th>1</th>\n",
       "      <td>2025-02-15</td>\n",
       "      <td>UK</td>\n",
       "      <td>MUNEEB</td>\n",
       "      <td>2000.0</td>\n",
       "      <td>4000.00</td>\n",
       "    </tr>\n",
       "    <tr>\n",
       "      <th>2</th>\n",
       "      <td>2025-03-17</td>\n",
       "      <td>AMERICA</td>\n",
       "      <td>MANSOOR</td>\n",
       "      <td>2500.0</td>\n",
       "      <td>5600.00</td>\n",
       "    </tr>\n",
       "    <tr>\n",
       "      <th>3</th>\n",
       "      <td>2025-04-18</td>\n",
       "      <td>AUSTRIA</td>\n",
       "      <td>MOIZ</td>\n",
       "      <td>3000.0</td>\n",
       "      <td>4308.25</td>\n",
       "    </tr>\n",
       "    <tr>\n",
       "      <th>4</th>\n",
       "      <td>2025-07-15</td>\n",
       "      <td>JAPAN</td>\n",
       "      <td>ALI</td>\n",
       "      <td>2500.0</td>\n",
       "      <td>4308.25</td>\n",
       "    </tr>\n",
       "    <tr>\n",
       "      <th>5</th>\n",
       "      <td>2025-07-15</td>\n",
       "      <td>CHINA</td>\n",
       "      <td>ASAD</td>\n",
       "      <td>4000.0</td>\n",
       "      <td>6433.00</td>\n",
       "    </tr>\n",
       "  </tbody>\n",
       "</table>\n",
       "</div>"
      ],
      "text/plain": [
       "         date  country     name  sales_2025  sales_2024\n",
       "0  2025-01-10      USA  MABTOOR      1000.0     1200.00\n",
       "1  2025-02-15       UK   MUNEEB      2000.0     4000.00\n",
       "2  2025-03-17  AMERICA  MANSOOR      2500.0     5600.00\n",
       "3  2025-04-18  AUSTRIA     MOIZ      3000.0     4308.25\n",
       "4  2025-07-15    JAPAN      ALI      2500.0     4308.25\n",
       "5  2025-07-15    CHINA     ASAD      4000.0     6433.00"
      ]
     },
     "execution_count": 16,
     "metadata": {},
     "output_type": "execute_result"
    }
   ],
   "source": [
    "# Impute Missing values of sales data\n",
    "\n",
    "data_frame['sales_2025'].fillna(data_frame['sales_2025'].mean(), inplace=True)\n",
    "data_frame['sales_2024'].fillna(data_frame['sales_2024'].mean(), inplace=True)\n",
    "\n",
    "data_frame\n"
   ]
  },
  {
   "cell_type": "code",
   "execution_count": 17,
   "id": "c2511dd2",
   "metadata": {},
   "outputs": [
    {
     "data": {
      "image/png": "[encoded data removed]",
      "text/plain": [
       "<Figure size 1000x600 with 1 Axes>"
      ]
     },
     "metadata": {},
     "output_type": "display_data"
    }
   ],
   "source": [
    "# Generate a bar plot for sales data comparison\n",
    "data_frame.plot(x='name', y=['sales_2025', 'sales_2024'], kind='bar', figsize=(10, 6))\n",
    "plt.title('Sales Data Comparison (2025 vs 2024)')\n",
    "plt.xlabel('Name')\n",
    "plt.ylabel('Sales')\n",
    "plt.legend(['Sales 2025', 'Sales 2024'])\n",
    "plt.show()"
   ]
  },
  {
   "cell_type": "code",
   "execution_count": 19,
   "id": "21934079",
   "metadata": {},
   "outputs": [
    {
     "data": {
      "image/png": "[encoded data removed]",
      "text/plain": [
       "<Figure size 640x480 with 2 Axes>"
      ]
     },
     "metadata": {},
     "output_type": "display_data"
    }
   ],
   "source": [
    "# Select only numeric columns for correlation\n",
    "numeric_data = data_frame.select_dtypes(include=['float64', 'int64'])\n",
    "\n",
    "# Generate the heatmap\n",
    "sns.heatmap(numeric_data.corr(), annot=True, cmap='coolwarm')\n",
    "plt.title('Correlation Heatmap')\n",
    "plt.show()"
   ]
  },
  {
   "cell_type": "markdown",
   "id": "203caf31",
   "metadata": {},
   "source": [
    "# Another Case for Impute Missing Value\n",
    "\n",
    "*Another case of solving missing values using different techniques*"
   ]
  },
  {
   "cell_type": "code",
   "execution_count": 20,
   "id": "3fcd1908",
   "metadata": {},
   "outputs": [],
   "source": [
    "# import libraries\n",
    "import numpy as np\n",
    "import pandas as pd\n",
    "import matplotlib.pyplot as plt\n",
    "import seaborn as sns\n"
   ]
  },
  {
   "cell_type": "code",
   "execution_count": 21,
   "id": "f9f64cad",
   "metadata": {},
   "outputs": [
    {
     "data": {
      "text/plain": [
       "Text(0.5, 0, 'Region')"
      ]
     },
     "execution_count": 21,
     "metadata": {},
     "output_type": "execute_result"
    },
    {
     "data": {
      "image/png": "[encoded data removed]",
      "text/plain": [
       "<Figure size 1000x600 with 1 Axes>"
      ]
     },
     "metadata": {},
     "output_type": "display_data"
    }
   ],
   "source": [
    "# load the dataset\n",
    "country_mapping = {\n",
    "    'USA': 'North America',\n",
    "    'UK': 'Europe',\n",
    "    'AMERICA': 'North America',\n",
    "    'AUSTRIA': 'Europe',\n",
    "    'JAPAN': 'Asia',\n",
    "    'CHINA': 'Asia'\n",
    "}\n",
    "data_frame['region'] = data_frame['country'].map(country_mapping)\n",
    "data_frame['region'].value_counts().plot(kind='bar', figsize=(10, 6))\n",
    "plt.title('Region Distribution')\n",
    "plt.xlabel('Region')"
   ]
  },
  {
   "cell_type": "code",
   "execution_count": 22,
   "id": "616042f5",
   "metadata": {},
   "outputs": [
    {
     "data": {
      "text/plain": [
       "date          0\n",
       "country       0\n",
       "name          0\n",
       "sales_2025    0\n",
       "sales_2024    0\n",
       "region        0\n",
       "dtype: int64"
      ]
     },
     "execution_count": 22,
     "metadata": {},
     "output_type": "execute_result"
    }
   ],
   "source": [
    "data_frame.isnull().sum()"
   ]
  },
  {
   "cell_type": "code",
   "execution_count": null,
   "id": "5493073a",
   "metadata": {},
   "outputs": [],
   "source": []
  }
 ],
 "metadata": {
  "kernelspec": {
   "display_name": "base",
   "language": "python",
   "name": "python3"
  },
  "language_info": {
   "codemirror_mode": {
    "name": "ipython",
    "version": 3
   },
   "file_extension": ".py",
   "mimetype": "text/x-python",
   "name": "python",
   "nbconvert_exporter": "python",
   "pygments_lexer": "ipython3",
   "version": "3.12.7"
  }
 },
 "nbformat": 4,
 "nbformat_minor": 5
}
